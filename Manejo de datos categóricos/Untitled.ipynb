{
 "cells": [
  {
   "cell_type": "code",
   "execution_count": 52,
   "metadata": {},
   "outputs": [],
   "source": [
    "import pandas as pd\n",
    "import numpy as np"
   ]
  },
  {
   "cell_type": "code",
   "execution_count": 39,
   "metadata": {},
   "outputs": [],
   "source": [
    "df = pd.read_csv(r\"datos\\cars.csv\")"
   ]
  },
  {
   "cell_type": "code",
   "execution_count": 40,
   "metadata": {},
   "outputs": [
    {
     "data": {
      "text/plain": [
       "{'gasoline': 3,\n",
       " 'gas': 2,\n",
       " 'diesel': 0,\n",
       " 'hybrid-petrol': 5,\n",
       " 'hybrid-diesel': 4,\n",
       " 'electric': 1}"
      ]
     },
     "execution_count": 40,
     "metadata": {},
     "output_type": "execute_result"
    }
   ],
   "source": [
    "df[\"engine_fuel\"] = df[\"engine_fuel\"].astype(\"category\")\n",
    "categories = df[\"engine_fuel\"]\n",
    "codes = df[\"engine_fuel\"].cat.codes # Permite codificar las variables categóricas en enteros\n",
    "\n",
    "name_map = dict(zip(categories, codes))\n",
    "name_map"
   ]
  },
  {
   "cell_type": "code",
   "execution_count": 44,
   "metadata": {},
   "outputs": [
    {
     "data": {
      "text/plain": [
       "gasoline         24065\n",
       "diesel           12872\n",
       "gas               1347\n",
       "hybrid-petrol      235\n",
       "electric            10\n",
       "hybrid-diesel        2\n",
       "Name: engine_fuel, dtype: int64"
      ]
     },
     "execution_count": 44,
     "metadata": {},
     "output_type": "execute_result"
    }
   ],
   "source": [
    "df[\"engine_fuel\"].value_counts()"
   ]
  },
  {
   "cell_type": "code",
   "execution_count": 58,
   "metadata": {},
   "outputs": [
    {
     "data": {
      "text/plain": [
       "0        False\n",
       "1        False\n",
       "2        False\n",
       "3        False\n",
       "4        False\n",
       "         ...  \n",
       "38526    False\n",
       "38527    False\n",
       "38528    False\n",
       "38529    False\n",
       "38530    False\n",
       "Name: engine_fuel, Length: 38531, dtype: bool"
      ]
     },
     "execution_count": 58,
     "metadata": {},
     "output_type": "execute_result"
    }
   ],
   "source": [
    "np.where(df[\"engine_fuel\"].str.contains(\"hydrid\",regex=False),1,0)"
   ]
  }
 ],
 "metadata": {
  "kernelspec": {
   "display_name": "Python 3",
   "language": "python",
   "name": "python3"
  },
  "language_info": {
   "codemirror_mode": {
    "name": "ipython",
    "version": 3
   },
   "file_extension": ".py",
   "mimetype": "text/x-python",
   "name": "python",
   "nbconvert_exporter": "python",
   "pygments_lexer": "ipython3",
   "version": "3.8.5"
  }
 },
 "nbformat": 4,
 "nbformat_minor": 4
}
