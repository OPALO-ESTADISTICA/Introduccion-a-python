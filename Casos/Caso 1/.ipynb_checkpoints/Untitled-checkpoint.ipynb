{
 "cells": [
  {
   "cell_type": "markdown",
   "metadata": {},
   "source": [
    "# Caso 1: Como la producción global de energía tiende a cambiar en el tiempo"
   ]
  },
  {
   "cell_type": "markdown",
   "metadata": {},
   "source": [
    "<h3> Propósito </h3>\n",
    "\n",
    "Para este caso se espera poder mejorar las habilidades en el uso de panda para usar funciones en series, así como manejar grandes datasets. Algunos de los métodos/funciones a utilizar son:\n",
    "\n",
    "* `drop_duplicates()`\n",
    "* `apply()`\n",
    "* `value_counts()`\n",
    "* `reset_index()`\n",
    "* `fillna()`"
   ]
  },
  {
   "cell_type": "markdown",
   "metadata": {},
   "source": [
    "### Contexto\n",
    "\n",
    "La producción, el consumo, la importación y la exportación de electricidad a nivel mundial es compleja e interesante por diversas razones. Cada país debe realizar un seguimiento de una amplia gama de información para asegurarse de que producen suficiente electricidad, así como equilibrar estas necesidades con las implicaciones financieras a mediano plazo y las consecuencias ambientales.\n",
    "\n",
    "Usted es un analista que trabaja en una organización no gubernamental (ONG) que informa sobre las tendencias energéticas globales. Su departamento ha obtenido un archivo CSV de gran tamaño, pero sus compañeros están intentando extraer información relevante de él utilizando Excel debido a su tamaño y formato. Para empeorar la situación, tiene miles de variables y no están seguros de cuáles son relevantes. Por lo tanto, se le ha hecho responsable de apoyar a su equipo proporcionándoles datos y conocimientos que pueden convertir en informes escritos.\n",
    "\n",
    "La tarea consiste en responder las siguientes preguntas:\n",
    "\n",
    "1. ¿Cuánta energía se produce?\n",
    "2. ¿Cuánta energía se consume?\n",
    "3. ¿Cuánta energía se importa y exporta?\n",
    "4. ¿Cuánto de esta energía es renovable?\n",
    "\n",
    "**Los datos necesarios para responder estas preguntas están almacenados en el archivo: all_energy_statistics.csv tomados del sitio http://data.un.org/Explorer.aspx**"
   ]
  },
  {
   "cell_type": "code",
   "execution_count": 1,
   "metadata": {},
   "outputs": [],
   "source": [
    "# Importar librerías\n",
    "\n",
    "import pandas as pd"
   ]
  },
  {
   "cell_type": "code",
   "execution_count": 2,
   "metadata": {},
   "outputs": [],
   "source": [
    "# Leer conjuntos de datos \n",
    "\n",
    "df = pd.read_csv(\"data/all_energy_statistics.csv\")"
   ]
  },
  {
   "cell_type": "code",
   "execution_count": 3,
   "metadata": {},
   "outputs": [
    {
     "data": {
      "text/plain": [
       "array(['Metric tons,  thousand', 'Terajoules', 'Kilowatts,  thousand',\n",
       "       'Kilowatt-hours, million', 'Cubic metres, thousand', 'Metric Tons'],\n",
       "      dtype=object)"
      ]
     },
     "execution_count": 3,
     "metadata": {},
     "output_type": "execute_result"
    }
   ],
   "source": [
    "df[\"unit\"].unique() # No son comparables las filas por que son de diferentes unidades"
   ]
  },
  {
   "cell_type": "markdown",
   "metadata": {},
   "source": [
    "En un primer ejerccio se puede explorar la cantidad de paises o regiones que se incluyen en el conjunto de datos, asemás de las categorías. Para esto se hace uso de la función drop_duplicates(), el cual elimina las valores repetidos en la serie que se aplique"
   ]
  },
  {
   "cell_type": "code",
   "execution_count": 4,
   "metadata": {},
   "outputs": [
    {
     "data": {
      "text/plain": [
       "0                                          Austria\n",
       "2                                          Belgium\n",
       "8                                          Czechia\n",
       "10                                         Finland\n",
       "26                                          France\n",
       "                            ...                   \n",
       "212765                                      Tuvalu\n",
       "212938                    United States Virgin Is.\n",
       "213088                       Wallis and Futuna Is.\n",
       "362966    Commonwealth of Independent States (CIS)\n",
       "399113                         Antarctic Fisheries\n",
       "Name: country_or_area, Length: 243, dtype: object"
      ]
     },
     "execution_count": 4,
     "metadata": {},
     "output_type": "execute_result"
    }
   ],
   "source": [
    "# country_or_area\n",
    "df[\"country_or_area\"].drop_duplicates()"
   ]
  },
  {
   "cell_type": "code",
   "execution_count": 5,
   "metadata": {},
   "outputs": [
    {
     "data": {
      "text/plain": [
       "0                                   additives_and_oxygenates\n",
       "3018                                            animal_waste\n",
       "4940                                              anthracite\n",
       "9834                                       aviation_gasoline\n",
       "28005                                                bagasse\n",
       "                                 ...                        \n",
       "1037653                                    total_electricity\n",
       "1171569                                total_refinery_output\n",
       "1177352                                              uranium\n",
       "1178036    white_spirit_and_special_boiling_point_industr...\n",
       "1188115                                     wind_electricity\n",
       "Name: category, Length: 71, dtype: object"
      ]
     },
     "execution_count": 5,
     "metadata": {},
     "output_type": "execute_result"
    }
   ],
   "source": [
    "# category\n",
    "df[\"category\"].drop_duplicates()"
   ]
  },
  {
   "cell_type": "markdown",
   "metadata": {},
   "source": [
    "Se evidencia que se cuentan con 243 regiones/países y con 71 categorías únicas.También es posible definir la ventana de tiempo para los datos registrados (1990-2014)"
   ]
  },
  {
   "cell_type": "code",
   "execution_count": 6,
   "metadata": {},
   "outputs": [
    {
     "name": "stdout",
     "output_type": "stream",
     "text": [
      "1990\n",
      "2014\n"
     ]
    }
   ],
   "source": [
    "print(df[\"year\"].min())\n",
    "print(df[\"year\"].max())"
   ]
  },
  {
   "cell_type": "markdown",
   "metadata": {},
   "source": [
    "### Uso de funciones para procesar texto\n",
    "\n",
    "La columna de commodity_transaction puede resultar algo caótica al usar letras en mayúsculas y símbolos, por lo que se hace necesario establecer un estándar para realizar tareas como: buscar las filas con la plabra producition. \n",
    "\n",
    "Una primera manera de estandarizar es pasar todo el texto a minúsculas mediante el método lower sobre series de tipo str. Cunado se llama str.lower() sobre una Serie, el resultado es otra serie en la cual todos sus valores están en minúscula"
   ]
  },
  {
   "cell_type": "code",
   "execution_count": 7,
   "metadata": {},
   "outputs": [
    {
     "data": {
      "text/plain": [
       "0           additives and oxygenates - exports\n",
       "1           additives and oxygenates - exports\n",
       "2           additives and oxygenates - exports\n",
       "3           additives and oxygenates - exports\n",
       "4           additives and oxygenates - exports\n",
       "                          ...                 \n",
       "1189477    electricity - total wind production\n",
       "1189478    electricity - total wind production\n",
       "1189479    electricity - total wind production\n",
       "1189480    electricity - total wind production\n",
       "1189481    electricity - total wind production\n",
       "Name: commodity_transaction, Length: 1189482, dtype: object"
      ]
     },
     "execution_count": 7,
     "metadata": {},
     "output_type": "execute_result"
    }
   ],
   "source": [
    "df[\"commodity_transaction\"].str.lower()"
   ]
  },
  {
   "cell_type": "markdown",
   "metadata": {},
   "source": [
    "En la columna de commodity_transaction se podía ver que habían símbolos como - para separar las palabras. Mediante pandas es posible contar el número de veces que se repite este símbolo en cada una de las diferentes categorías "
   ]
  },
  {
   "cell_type": "code",
   "execution_count": 8,
   "metadata": {},
   "outputs": [
    {
     "data": {
      "text/plain": [
       "1    1845\n",
       "2     538\n",
       "0      57\n",
       "3      12\n",
       "Name: commodity_transaction, dtype: int64"
      ]
     },
     "execution_count": 8,
     "metadata": {},
     "output_type": "execute_result"
    }
   ],
   "source": [
    "# Primero se eliminan las filas repetidas, se cuentas cuantas veces se reipte el símbolo - y se muestra la frecuencia en que \n",
    "# aparecen\n",
    "\n",
    "df[\"commodity_transaction\"].drop_duplicates().str.count(\"-\").value_counts()\n"
   ]
  },
  {
   "cell_type": "markdown",
   "metadata": {},
   "source": [
    "## Ejercicio 1\n",
    "\n",
    "Filtre el conjunto de datos a aquellas descripciones que no contienen el símbolo -"
   ]
  },
  {
   "cell_type": "code",
   "execution_count": 9,
   "metadata": {},
   "outputs": [
    {
     "data": {
      "text/plain": [
       "533715                  From chemical sources – Autoproducer\n",
       "533859     From chemical sources – Autoproducer – CHP plants\n",
       "533920     From chemical sources – Autoproducer – Heat pl...\n",
       "534028                 From combustible fuels – Autoproducer\n",
       "534664     From combustible fuels – Autoproducer – CHP pl...\n",
       "535224     From combustible fuels – Autoproducer – Heat p...\n",
       "535714                From combustible fuels – Main activity\n",
       "536846     From combustible fuels – Main activity – CHP p...\n",
       "537854     From combustible fuels – Main activity – Heat ...\n",
       "538705                 From electric boilers – Main activity\n",
       "538887                       From heat pumps – Main activity\n",
       "539022                     From other sources – Autoproducer\n",
       "539148        From other sources – Autoproducer – CHP plants\n",
       "539186       From other sources – Autoproducer – Heat plants\n",
       "539281                    From other sources – Main activity\n",
       "539359       From other sources – Main activity – CHP plants\n",
       "539392      From other sources – Main activity – Heat plants\n",
       "539453                             Geothermal – Autoproducer\n",
       "539507                Geothermal – Autoproducer – CHP plants\n",
       "539511               Geothermal – Autoproducer – Heat plants\n",
       "539565                            Geothermal – Main activity\n",
       "539768               Geothermal – Main activity – CHP plants\n",
       "539794              Geothermal – Main activity – Heat plants\n",
       "562982                               Nuclear – Main activity\n",
       "563135                  Nuclear – Main activity – CHP plants\n",
       "563262                          Solar thermal – Autoproducer\n",
       "563295                         Solar thermal – Main activity\n",
       "1143005                    From chemical heat – Autoproducer\n",
       "1143116       From chemical heat – Autoproducer – CHP plants\n",
       "1143177    From chemical heat – Autoproducer – Electricit...\n",
       "1143260                   From chemical heat – Main activity\n",
       "1143279      From chemical heat – Main activity – CHP plants\n",
       "1143298    From chemical heat – Main activity – Electrici...\n",
       "1147849    From combustible fuels – Autoproducer – Electr...\n",
       "1155969    From combustible fuels – Main activity – Elect...\n",
       "1159029    From other sources – Autoproducer – Electricit...\n",
       "1159302    From other sources – Main activity – Electrici...\n",
       "1159558       Geothermal – Autoproducer – Electricity plants\n",
       "1160112      Geothermal – Main activity – Electricity plants\n",
       "1160459                                 Hydro – Autoproducer\n",
       "1161790                                Hydro – Main activity\n",
       "1165498                               Nuclear – Autoproducer\n",
       "1165532                  Nuclear – Autoproducer – CHP plants\n",
       "1165537          Nuclear – Autoproducer – Electricity plants\n",
       "1166368         Nuclear – Main activity – Electricity plants\n",
       "1166916                Of which: Pumped hydro – Autoproducer\n",
       "1166985               Of which: Pumped hydro – Main activity\n",
       "1167647                                 Solar – Autoproducer\n",
       "1168106                                Solar – Main activity\n",
       "1168802                    Solar photovoltaic – Autoproducer\n",
       "1169209                   Solar photovoltaic – Main activity\n",
       "1169830                 Tide, wave and marine – Autoproducer\n",
       "1169836                Tide, wave and marine – Main activity\n",
       "1169888                                  Wind – Autoproducer\n",
       "1170292                                 Wind – Main activity\n",
       "1171569                                Total refinery output\n",
       "1174459                            Total refinery throughput\n",
       "Name: commodity_transaction, dtype: object"
      ]
     },
     "execution_count": 9,
     "metadata": {},
     "output_type": "execute_result"
    }
   ],
   "source": [
    "df[\"commodity_transaction\"][df[\"commodity_transaction\"].str.count(\"-\")==0].drop_duplicates()"
   ]
  },
  {
   "cell_type": "markdown",
   "metadata": {},
   "source": [
    "A primera vista se podría pensar que no se cumple la condición, sin embargo, en estas descripciones se hacen uso tanto de guiones \"-\" (hyphen) y guiones extendidos \"—\" (dash). Para lidiar con este problema se podría reemplazar todo por guiones con la función str.replace()"
   ]
  },
  {
   "cell_type": "code",
   "execution_count": 12,
   "metadata": {},
   "outputs": [
    {
     "data": {
      "text/plain": [
       "array(['additives and oxygenates - exports',\n",
       "       'additives and oxygenates - imports',\n",
       "       'additives and oxygenates - production', ...,\n",
       "       'white spirit and special boiling point industrial spirits - transformation',\n",
       "       'white spirit and special boiling point industrial spirits - transformation in petrochemical plants',\n",
       "       'electricity - total wind production'], dtype=object)"
      ]
     },
     "execution_count": 12,
     "metadata": {},
     "output_type": "execute_result"
    }
   ],
   "source": [
    "df[\"clean_transaction\"] = df[\"commodity_transaction\"].str.lower().str.replace(\"—\", \"-\")\n",
    "df[\"clean_transaction\"].unique()"
   ]
  },
  {
   "cell_type": "markdown",
   "metadata": {},
   "source": [
    "### Selección de filas de interés"
   ]
  },
  {
   "cell_type": "markdown",
   "metadata": {},
   "source": [
    "Es posible para este conjunto de datos realizar filtros según las palabras que hayan presentes en las descripciones de acuerdo a nuestro intereses. Por ejemplo, se filtran aquellas descripciones donde este contenida la palabra import"
   ]
  },
  {
   "cell_type": "code",
   "execution_count": 15,
   "metadata": {
    "scrolled": true
   },
   "outputs": [
    {
     "data": {
      "text/plain": [
       "1108326    electricity - imports\n",
       "Name: clean_transaction, dtype: object"
      ]
     },
     "execution_count": 15,
     "metadata": {},
     "output_type": "execute_result"
    }
   ],
   "source": [
    "df[\"clean_transaction\"][df[\"clean_transaction\"].str.contains(\"import\")].drop_duplicates()"
   ]
  },
  {
   "cell_type": "code",
   "execution_count": 16,
   "metadata": {},
   "outputs": [
    {
     "data": {
      "text/html": [
       "<div>\n",
       "<style scoped>\n",
       "    .dataframe tbody tr th:only-of-type {\n",
       "        vertical-align: middle;\n",
       "    }\n",
       "\n",
       "    .dataframe tbody tr th {\n",
       "        vertical-align: top;\n",
       "    }\n",
       "\n",
       "    .dataframe thead th {\n",
       "        text-align: right;\n",
       "    }\n",
       "</style>\n",
       "<table border=\"1\" class=\"dataframe\">\n",
       "  <thead>\n",
       "    <tr style=\"text-align: right;\">\n",
       "      <th></th>\n",
       "      <th>country_or_area</th>\n",
       "      <th>commodity_transaction</th>\n",
       "      <th>year</th>\n",
       "      <th>unit</th>\n",
       "      <th>quantity</th>\n",
       "      <th>quantity_footnotes</th>\n",
       "      <th>category</th>\n",
       "      <th>clean_transaction</th>\n",
       "    </tr>\n",
       "  </thead>\n",
       "  <tbody>\n",
       "    <tr>\n",
       "      <th>0</th>\n",
       "      <td>Austria</td>\n",
       "      <td>Additives and Oxygenates - Exports</td>\n",
       "      <td>1996</td>\n",
       "      <td>Metric tons,  thousand</td>\n",
       "      <td>5.0</td>\n",
       "      <td>NaN</td>\n",
       "      <td>additives_and_oxygenates</td>\n",
       "      <td>additives and oxygenates - exports</td>\n",
       "    </tr>\n",
       "    <tr>\n",
       "      <th>1</th>\n",
       "      <td>Austria</td>\n",
       "      <td>Additives and Oxygenates - Exports</td>\n",
       "      <td>1995</td>\n",
       "      <td>Metric tons,  thousand</td>\n",
       "      <td>17.0</td>\n",
       "      <td>NaN</td>\n",
       "      <td>additives_and_oxygenates</td>\n",
       "      <td>additives and oxygenates - exports</td>\n",
       "    </tr>\n",
       "    <tr>\n",
       "      <th>2</th>\n",
       "      <td>Belgium</td>\n",
       "      <td>Additives and Oxygenates - Exports</td>\n",
       "      <td>2014</td>\n",
       "      <td>Metric tons,  thousand</td>\n",
       "      <td>0.0</td>\n",
       "      <td>NaN</td>\n",
       "      <td>additives_and_oxygenates</td>\n",
       "      <td>additives and oxygenates - exports</td>\n",
       "    </tr>\n",
       "    <tr>\n",
       "      <th>3</th>\n",
       "      <td>Belgium</td>\n",
       "      <td>Additives and Oxygenates - Exports</td>\n",
       "      <td>2013</td>\n",
       "      <td>Metric tons,  thousand</td>\n",
       "      <td>0.0</td>\n",
       "      <td>NaN</td>\n",
       "      <td>additives_and_oxygenates</td>\n",
       "      <td>additives and oxygenates - exports</td>\n",
       "    </tr>\n",
       "    <tr>\n",
       "      <th>4</th>\n",
       "      <td>Belgium</td>\n",
       "      <td>Additives and Oxygenates - Exports</td>\n",
       "      <td>2012</td>\n",
       "      <td>Metric tons,  thousand</td>\n",
       "      <td>35.0</td>\n",
       "      <td>NaN</td>\n",
       "      <td>additives_and_oxygenates</td>\n",
       "      <td>additives and oxygenates - exports</td>\n",
       "    </tr>\n",
       "  </tbody>\n",
       "</table>\n",
       "</div>"
      ],
      "text/plain": [
       "  country_or_area               commodity_transaction  year  \\\n",
       "0         Austria  Additives and Oxygenates - Exports  1996   \n",
       "1         Austria  Additives and Oxygenates - Exports  1995   \n",
       "2         Belgium  Additives and Oxygenates - Exports  2014   \n",
       "3         Belgium  Additives and Oxygenates - Exports  2013   \n",
       "4         Belgium  Additives and Oxygenates - Exports  2012   \n",
       "\n",
       "                     unit  quantity  quantity_footnotes  \\\n",
       "0  Metric tons,  thousand       5.0                 NaN   \n",
       "1  Metric tons,  thousand      17.0                 NaN   \n",
       "2  Metric tons,  thousand       0.0                 NaN   \n",
       "3  Metric tons,  thousand       0.0                 NaN   \n",
       "4  Metric tons,  thousand      35.0                 NaN   \n",
       "\n",
       "                   category                   clean_transaction  \n",
       "0  additives_and_oxygenates  additives and oxygenates - exports  \n",
       "1  additives_and_oxygenates  additives and oxygenates - exports  \n",
       "2  additives_and_oxygenates  additives and oxygenates - exports  \n",
       "3  additives_and_oxygenates  additives and oxygenates - exports  \n",
       "4  additives_and_oxygenates  additives and oxygenates - exports  "
      ]
     },
     "execution_count": 16,
     "metadata": {},
     "output_type": "execute_result"
    }
   ],
   "source": [
    "df.head()"
   ]
  },
  {
   "cell_type": "markdown",
   "metadata": {},
   "source": [
    "Si bien resulta útil poder filtrar por filas, también es de interés poder estudiar con mayor detalle los valores de energías renovables para la columna de `commodity_transaction`"
   ]
  },
  {
   "cell_type": "code",
   "execution_count": 23,
   "metadata": {},
   "outputs": [
    {
     "data": {
      "text/html": [
       "<div>\n",
       "<style scoped>\n",
       "    .dataframe tbody tr th:only-of-type {\n",
       "        vertical-align: middle;\n",
       "    }\n",
       "\n",
       "    .dataframe tbody tr th {\n",
       "        vertical-align: top;\n",
       "    }\n",
       "\n",
       "    .dataframe thead th {\n",
       "        text-align: right;\n",
       "    }\n",
       "</style>\n",
       "<table border=\"1\" class=\"dataframe\">\n",
       "  <thead>\n",
       "    <tr style=\"text-align: right;\">\n",
       "      <th></th>\n",
       "      <th>commodity_transaction</th>\n",
       "      <th>Electricity - Gross demand</th>\n",
       "      <th>Electricity - Gross production</th>\n",
       "      <th>Electricity - exports</th>\n",
       "      <th>Electricity - imports</th>\n",
       "      <th>Electricity - total geothermal production</th>\n",
       "      <th>Electricity - total hydro production</th>\n",
       "      <th>Electricity - total solar production</th>\n",
       "      <th>Electricity - total tide, wave production</th>\n",
       "      <th>Electricity - total wind production</th>\n",
       "    </tr>\n",
       "    <tr>\n",
       "      <th>country_or_area</th>\n",
       "      <th>year</th>\n",
       "      <th></th>\n",
       "      <th></th>\n",
       "      <th></th>\n",
       "      <th></th>\n",
       "      <th></th>\n",
       "      <th></th>\n",
       "      <th></th>\n",
       "      <th></th>\n",
       "      <th></th>\n",
       "    </tr>\n",
       "  </thead>\n",
       "  <tbody>\n",
       "    <tr>\n",
       "      <th rowspan=\"3\" valign=\"top\">Afghanistan</th>\n",
       "      <th>1990</th>\n",
       "      <td>1055.0</td>\n",
       "      <td>1128.0</td>\n",
       "      <td>NaN</td>\n",
       "      <td>NaN</td>\n",
       "      <td>NaN</td>\n",
       "      <td>764.0</td>\n",
       "      <td>NaN</td>\n",
       "      <td>NaN</td>\n",
       "      <td>NaN</td>\n",
       "    </tr>\n",
       "    <tr>\n",
       "      <th>1991</th>\n",
       "      <td>945.0</td>\n",
       "      <td>1015.0</td>\n",
       "      <td>NaN</td>\n",
       "      <td>NaN</td>\n",
       "      <td>NaN</td>\n",
       "      <td>690.0</td>\n",
       "      <td>NaN</td>\n",
       "      <td>NaN</td>\n",
       "      <td>NaN</td>\n",
       "    </tr>\n",
       "    <tr>\n",
       "      <th>1992</th>\n",
       "      <td>789.0</td>\n",
       "      <td>703.0</td>\n",
       "      <td>NaN</td>\n",
       "      <td>131.0</td>\n",
       "      <td>NaN</td>\n",
       "      <td>478.0</td>\n",
       "      <td>NaN</td>\n",
       "      <td>NaN</td>\n",
       "      <td>NaN</td>\n",
       "    </tr>\n",
       "  </tbody>\n",
       "</table>\n",
       "</div>"
      ],
      "text/plain": [
       "commodity_transaction  Electricity - Gross demand  \\\n",
       "country_or_area year                                \n",
       "Afghanistan     1990                       1055.0   \n",
       "                1991                        945.0   \n",
       "                1992                        789.0   \n",
       "\n",
       "commodity_transaction  Electricity - Gross production  Electricity - exports  \\\n",
       "country_or_area year                                                           \n",
       "Afghanistan     1990                           1128.0                    NaN   \n",
       "                1991                           1015.0                    NaN   \n",
       "                1992                            703.0                    NaN   \n",
       "\n",
       "commodity_transaction  Electricity - imports  \\\n",
       "country_or_area year                           \n",
       "Afghanistan     1990                     NaN   \n",
       "                1991                     NaN   \n",
       "                1992                   131.0   \n",
       "\n",
       "commodity_transaction  Electricity - total geothermal production  \\\n",
       "country_or_area year                                               \n",
       "Afghanistan     1990                                         NaN   \n",
       "                1991                                         NaN   \n",
       "                1992                                         NaN   \n",
       "\n",
       "commodity_transaction  Electricity - total hydro production  \\\n",
       "country_or_area year                                          \n",
       "Afghanistan     1990                                  764.0   \n",
       "                1991                                  690.0   \n",
       "                1992                                  478.0   \n",
       "\n",
       "commodity_transaction  Electricity - total solar production  \\\n",
       "country_or_area year                                          \n",
       "Afghanistan     1990                                    NaN   \n",
       "                1991                                    NaN   \n",
       "                1992                                    NaN   \n",
       "\n",
       "commodity_transaction  Electricity - total tide, wave production  \\\n",
       "country_or_area year                                               \n",
       "Afghanistan     1990                                         NaN   \n",
       "                1991                                         NaN   \n",
       "                1992                                         NaN   \n",
       "\n",
       "commodity_transaction  Electricity - total wind production  \n",
       "country_or_area year                                        \n",
       "Afghanistan     1990                                   NaN  \n",
       "                1991                                   NaN  \n",
       "                1992                                   NaN  "
      ]
     },
     "execution_count": 23,
     "metadata": {},
     "output_type": "execute_result"
    }
   ],
   "source": [
    "# Se crea una lista de energías renovables que son de interés para el estudio\n",
    "\n",
    "keep_values =  [\n",
    "        \"Electricity - Gross demand\",\n",
    "        \"Electricity - Gross production\",\n",
    "        \"Electricity - imports\",\n",
    "        \"Electricity - exports\",\n",
    "        \"Electricity - total hydro production\",\n",
    "        \"Electricity - total wind production\",\n",
    "        \"Electricity - total solar production\",\n",
    "        \"Electricity - total geothermal production\",\n",
    "        \"Electricity - total tide, wave production\"]\n",
    "\n",
    "# Filtrar solamente para energías renovables\n",
    "\n",
    "df_filtered = df[df[\"commodity_transaction\"].isin(keep_values)]\n",
    "\n",
    "# Se realiza un pivote sobre la columna commodity, es decir, los valores que era filas lo pasa a columna manteniendo solo el\n",
    "# valor de quantity\n",
    "\n",
    "df_countries = pd.pivot_table(\n",
    "    df_filtered,\n",
    "    values=\"quantity\",\n",
    "    index=[\"country_or_area\", \"year\"],\n",
    "    columns=\"commodity_transaction\",\n",
    ")\n",
    "\n",
    "df_countries.head(3)"
   ]
  },
  {
   "cell_type": "code",
   "execution_count": 24,
   "metadata": {},
   "outputs": [
    {
     "data": {
      "text/html": [
       "<div>\n",
       "<style scoped>\n",
       "    .dataframe tbody tr th:only-of-type {\n",
       "        vertical-align: middle;\n",
       "    }\n",
       "\n",
       "    .dataframe tbody tr th {\n",
       "        vertical-align: top;\n",
       "    }\n",
       "\n",
       "    .dataframe thead th {\n",
       "        text-align: right;\n",
       "    }\n",
       "</style>\n",
       "<table border=\"1\" class=\"dataframe\">\n",
       "  <thead>\n",
       "    <tr style=\"text-align: right;\">\n",
       "      <th></th>\n",
       "      <th></th>\n",
       "      <th>demand</th>\n",
       "      <th>production</th>\n",
       "      <th>exports</th>\n",
       "      <th>imports</th>\n",
       "      <th>geothermal</th>\n",
       "      <th>hydro</th>\n",
       "      <th>solar</th>\n",
       "      <th>tide</th>\n",
       "      <th>wind</th>\n",
       "    </tr>\n",
       "    <tr>\n",
       "      <th>country_or_area</th>\n",
       "      <th>year</th>\n",
       "      <th></th>\n",
       "      <th></th>\n",
       "      <th></th>\n",
       "      <th></th>\n",
       "      <th></th>\n",
       "      <th></th>\n",
       "      <th></th>\n",
       "      <th></th>\n",
       "      <th></th>\n",
       "    </tr>\n",
       "  </thead>\n",
       "  <tbody>\n",
       "    <tr>\n",
       "      <th rowspan=\"5\" valign=\"top\">Afghanistan</th>\n",
       "      <th>1990</th>\n",
       "      <td>1055.0</td>\n",
       "      <td>1128.0</td>\n",
       "      <td>NaN</td>\n",
       "      <td>NaN</td>\n",
       "      <td>NaN</td>\n",
       "      <td>764.0</td>\n",
       "      <td>NaN</td>\n",
       "      <td>NaN</td>\n",
       "      <td>NaN</td>\n",
       "    </tr>\n",
       "    <tr>\n",
       "      <th>1991</th>\n",
       "      <td>945.0</td>\n",
       "      <td>1015.0</td>\n",
       "      <td>NaN</td>\n",
       "      <td>NaN</td>\n",
       "      <td>NaN</td>\n",
       "      <td>690.0</td>\n",
       "      <td>NaN</td>\n",
       "      <td>NaN</td>\n",
       "      <td>NaN</td>\n",
       "    </tr>\n",
       "    <tr>\n",
       "      <th>1992</th>\n",
       "      <td>789.0</td>\n",
       "      <td>703.0</td>\n",
       "      <td>NaN</td>\n",
       "      <td>131.0</td>\n",
       "      <td>NaN</td>\n",
       "      <td>478.0</td>\n",
       "      <td>NaN</td>\n",
       "      <td>NaN</td>\n",
       "      <td>NaN</td>\n",
       "    </tr>\n",
       "    <tr>\n",
       "      <th>1993</th>\n",
       "      <td>780.0</td>\n",
       "      <td>695.0</td>\n",
       "      <td>NaN</td>\n",
       "      <td>130.0</td>\n",
       "      <td>NaN</td>\n",
       "      <td>475.0</td>\n",
       "      <td>NaN</td>\n",
       "      <td>NaN</td>\n",
       "      <td>NaN</td>\n",
       "    </tr>\n",
       "    <tr>\n",
       "      <th>1994</th>\n",
       "      <td>770.0</td>\n",
       "      <td>687.0</td>\n",
       "      <td>NaN</td>\n",
       "      <td>128.0</td>\n",
       "      <td>NaN</td>\n",
       "      <td>472.0</td>\n",
       "      <td>NaN</td>\n",
       "      <td>NaN</td>\n",
       "      <td>NaN</td>\n",
       "    </tr>\n",
       "    <tr>\n",
       "      <th>...</th>\n",
       "      <th>...</th>\n",
       "      <td>...</td>\n",
       "      <td>...</td>\n",
       "      <td>...</td>\n",
       "      <td>...</td>\n",
       "      <td>...</td>\n",
       "      <td>...</td>\n",
       "      <td>...</td>\n",
       "      <td>...</td>\n",
       "      <td>...</td>\n",
       "    </tr>\n",
       "    <tr>\n",
       "      <th rowspan=\"5\" valign=\"top\">Zimbabwe</th>\n",
       "      <th>2010</th>\n",
       "      <td>9317.3</td>\n",
       "      <td>8602.9</td>\n",
       "      <td>694.4</td>\n",
       "      <td>1681.7</td>\n",
       "      <td>NaN</td>\n",
       "      <td>5762.8</td>\n",
       "      <td>NaN</td>\n",
       "      <td>NaN</td>\n",
       "      <td>NaN</td>\n",
       "    </tr>\n",
       "    <tr>\n",
       "      <th>2011</th>\n",
       "      <td>9645.5</td>\n",
       "      <td>9177.2</td>\n",
       "      <td>988.2</td>\n",
       "      <td>1578.7</td>\n",
       "      <td>NaN</td>\n",
       "      <td>5201.8</td>\n",
       "      <td>NaN</td>\n",
       "      <td>NaN</td>\n",
       "      <td>NaN</td>\n",
       "    </tr>\n",
       "    <tr>\n",
       "      <th>2012</th>\n",
       "      <td>9425.2</td>\n",
       "      <td>9148.6</td>\n",
       "      <td>700.9</td>\n",
       "      <td>1076.1</td>\n",
       "      <td>NaN</td>\n",
       "      <td>5387.3</td>\n",
       "      <td>NaN</td>\n",
       "      <td>NaN</td>\n",
       "      <td>NaN</td>\n",
       "    </tr>\n",
       "    <tr>\n",
       "      <th>2013</th>\n",
       "      <td>9919.7</td>\n",
       "      <td>9498.8</td>\n",
       "      <td>1189.3</td>\n",
       "      <td>1722.0</td>\n",
       "      <td>NaN</td>\n",
       "      <td>4981.8</td>\n",
       "      <td>NaN</td>\n",
       "      <td>NaN</td>\n",
       "      <td>NaN</td>\n",
       "    </tr>\n",
       "    <tr>\n",
       "      <th>2014</th>\n",
       "      <td>9740.0</td>\n",
       "      <td>10023.0</td>\n",
       "      <td>1226.0</td>\n",
       "      <td>1127.0</td>\n",
       "      <td>NaN</td>\n",
       "      <td>5431.0</td>\n",
       "      <td>NaN</td>\n",
       "      <td>NaN</td>\n",
       "      <td>NaN</td>\n",
       "    </tr>\n",
       "  </tbody>\n",
       "</table>\n",
       "<p>5532 rows × 9 columns</p>\n",
       "</div>"
      ],
      "text/plain": [
       "                      demand  production  exports  imports  geothermal  \\\n",
       "country_or_area year                                                     \n",
       "Afghanistan     1990  1055.0      1128.0      NaN      NaN         NaN   \n",
       "                1991   945.0      1015.0      NaN      NaN         NaN   \n",
       "                1992   789.0       703.0      NaN    131.0         NaN   \n",
       "                1993   780.0       695.0      NaN    130.0         NaN   \n",
       "                1994   770.0       687.0      NaN    128.0         NaN   \n",
       "...                      ...         ...      ...      ...         ...   \n",
       "Zimbabwe        2010  9317.3      8602.9    694.4   1681.7         NaN   \n",
       "                2011  9645.5      9177.2    988.2   1578.7         NaN   \n",
       "                2012  9425.2      9148.6    700.9   1076.1         NaN   \n",
       "                2013  9919.7      9498.8   1189.3   1722.0         NaN   \n",
       "                2014  9740.0     10023.0   1226.0   1127.0         NaN   \n",
       "\n",
       "                       hydro  solar  tide  wind  \n",
       "country_or_area year                             \n",
       "Afghanistan     1990   764.0    NaN   NaN   NaN  \n",
       "                1991   690.0    NaN   NaN   NaN  \n",
       "                1992   478.0    NaN   NaN   NaN  \n",
       "                1993   475.0    NaN   NaN   NaN  \n",
       "                1994   472.0    NaN   NaN   NaN  \n",
       "...                      ...    ...   ...   ...  \n",
       "Zimbabwe        2010  5762.8    NaN   NaN   NaN  \n",
       "                2011  5201.8    NaN   NaN   NaN  \n",
       "                2012  5387.3    NaN   NaN   NaN  \n",
       "                2013  4981.8    NaN   NaN   NaN  \n",
       "                2014  5431.0    NaN   NaN   NaN  \n",
       "\n",
       "[5532 rows x 9 columns]"
      ]
     },
     "execution_count": 24,
     "metadata": {},
     "output_type": "execute_result"
    }
   ],
   "source": [
    "# Modificar el nombre de las columnas\n",
    "\n",
    "df_countries.columns = [\"demand\",\"production\",\"exports\",\"imports\",\"geothermal\",\"hydro\",\"solar\",\"tide\",\"wind\"]\n",
    "\n",
    "df_countries"
   ]
  },
  {
   "cell_type": "markdown",
   "metadata": {},
   "source": [
    "Posiblemente deseamos conocer por orden cuales han sido los países con mayor producción. Esta tarea es posible con el método `sort_values()` tomando como argumento un by "
   ]
  },
  {
   "cell_type": "code",
   "execution_count": 25,
   "metadata": {},
   "outputs": [
    {
     "data": {
      "text/html": [
       "<div>\n",
       "<style scoped>\n",
       "    .dataframe tbody tr th:only-of-type {\n",
       "        vertical-align: middle;\n",
       "    }\n",
       "\n",
       "    .dataframe tbody tr th {\n",
       "        vertical-align: top;\n",
       "    }\n",
       "\n",
       "    .dataframe thead th {\n",
       "        text-align: right;\n",
       "    }\n",
       "</style>\n",
       "<table border=\"1\" class=\"dataframe\">\n",
       "  <thead>\n",
       "    <tr style=\"text-align: right;\">\n",
       "      <th></th>\n",
       "      <th></th>\n",
       "      <th>demand</th>\n",
       "      <th>production</th>\n",
       "      <th>exports</th>\n",
       "      <th>imports</th>\n",
       "      <th>geothermal</th>\n",
       "      <th>hydro</th>\n",
       "      <th>solar</th>\n",
       "      <th>tide</th>\n",
       "      <th>wind</th>\n",
       "    </tr>\n",
       "    <tr>\n",
       "      <th>country_or_area</th>\n",
       "      <th>year</th>\n",
       "      <th></th>\n",
       "      <th></th>\n",
       "      <th></th>\n",
       "      <th></th>\n",
       "      <th></th>\n",
       "      <th></th>\n",
       "      <th></th>\n",
       "      <th></th>\n",
       "      <th></th>\n",
       "    </tr>\n",
       "  </thead>\n",
       "  <tbody>\n",
       "    <tr>\n",
       "      <th rowspan=\"4\" valign=\"top\">China</th>\n",
       "      <th>2014</th>\n",
       "      <td>5219096.0</td>\n",
       "      <td>5649583.4</td>\n",
       "      <td>18158.0</td>\n",
       "      <td>6750.0</td>\n",
       "      <td>NaN</td>\n",
       "      <td>1064337.0</td>\n",
       "      <td>15189.0</td>\n",
       "      <td>NaN</td>\n",
       "      <td>156078.0</td>\n",
       "    </tr>\n",
       "    <tr>\n",
       "      <th>2013</th>\n",
       "      <td>5016127.0</td>\n",
       "      <td>5431637.4</td>\n",
       "      <td>18669.0</td>\n",
       "      <td>7438.0</td>\n",
       "      <td>NaN</td>\n",
       "      <td>920291.0</td>\n",
       "      <td>5564.0</td>\n",
       "      <td>NaN</td>\n",
       "      <td>141197.0</td>\n",
       "    </tr>\n",
       "    <tr>\n",
       "      <th>2012</th>\n",
       "      <td>4609729.0</td>\n",
       "      <td>4987553.0</td>\n",
       "      <td>17653.0</td>\n",
       "      <td>6874.0</td>\n",
       "      <td>NaN</td>\n",
       "      <td>872107.0</td>\n",
       "      <td>NaN</td>\n",
       "      <td>NaN</td>\n",
       "      <td>95978.0</td>\n",
       "    </tr>\n",
       "    <tr>\n",
       "      <th>2011</th>\n",
       "      <td>4319132.0</td>\n",
       "      <td>4713019.0</td>\n",
       "      <td>19307.0</td>\n",
       "      <td>6562.0</td>\n",
       "      <td>NaN</td>\n",
       "      <td>698945.0</td>\n",
       "      <td>NaN</td>\n",
       "      <td>NaN</td>\n",
       "      <td>70331.0</td>\n",
       "    </tr>\n",
       "    <tr>\n",
       "      <th>United States</th>\n",
       "      <th>2010</th>\n",
       "      <td>4153664.0</td>\n",
       "      <td>4378422.0</td>\n",
       "      <td>19107.0</td>\n",
       "      <td>45083.0</td>\n",
       "      <td>17577.0</td>\n",
       "      <td>286333.0</td>\n",
       "      <td>3934.0</td>\n",
       "      <td>NaN</td>\n",
       "      <td>95148.0</td>\n",
       "    </tr>\n",
       "  </tbody>\n",
       "</table>\n",
       "</div>"
      ],
      "text/plain": [
       "                         demand  production  exports  imports  geothermal  \\\n",
       "country_or_area year                                                        \n",
       "China           2014  5219096.0   5649583.4  18158.0   6750.0         NaN   \n",
       "                2013  5016127.0   5431637.4  18669.0   7438.0         NaN   \n",
       "                2012  4609729.0   4987553.0  17653.0   6874.0         NaN   \n",
       "                2011  4319132.0   4713019.0  19307.0   6562.0         NaN   \n",
       "United States   2010  4153664.0   4378422.0  19107.0  45083.0     17577.0   \n",
       "\n",
       "                          hydro    solar  tide      wind  \n",
       "country_or_area year                                      \n",
       "China           2014  1064337.0  15189.0   NaN  156078.0  \n",
       "                2013   920291.0   5564.0   NaN  141197.0  \n",
       "                2012   872107.0      NaN   NaN   95978.0  \n",
       "                2011   698945.0      NaN   NaN   70331.0  \n",
       "United States   2010   286333.0   3934.0   NaN   95148.0  "
      ]
     },
     "execution_count": 25,
     "metadata": {},
     "output_type": "execute_result"
    }
   ],
   "source": [
    "df_countries = df_countries.sort_values(by=\"production\", ascending=False) # Ordena de manera descendente por producción\n",
    "df_countries.head()"
   ]
  },
  {
   "cell_type": "markdown",
   "metadata": {},
   "source": [
    "En caso de desear dejar los dos niveles de los índices (\"country_or_area\", \"year\") se usa el método `reset_index()`"
   ]
  },
  {
   "cell_type": "code",
   "execution_count": 26,
   "metadata": {},
   "outputs": [
    {
     "data": {
      "text/html": [
       "<div>\n",
       "<style scoped>\n",
       "    .dataframe tbody tr th:only-of-type {\n",
       "        vertical-align: middle;\n",
       "    }\n",
       "\n",
       "    .dataframe tbody tr th {\n",
       "        vertical-align: top;\n",
       "    }\n",
       "\n",
       "    .dataframe thead th {\n",
       "        text-align: right;\n",
       "    }\n",
       "</style>\n",
       "<table border=\"1\" class=\"dataframe\">\n",
       "  <thead>\n",
       "    <tr style=\"text-align: right;\">\n",
       "      <th></th>\n",
       "      <th>country_or_area</th>\n",
       "      <th>year</th>\n",
       "      <th>demand</th>\n",
       "      <th>production</th>\n",
       "      <th>exports</th>\n",
       "      <th>imports</th>\n",
       "      <th>geothermal</th>\n",
       "      <th>hydro</th>\n",
       "      <th>solar</th>\n",
       "      <th>tide</th>\n",
       "      <th>wind</th>\n",
       "    </tr>\n",
       "  </thead>\n",
       "  <tbody>\n",
       "    <tr>\n",
       "      <th>0</th>\n",
       "      <td>China</td>\n",
       "      <td>2014</td>\n",
       "      <td>5219096.0</td>\n",
       "      <td>5649583.4</td>\n",
       "      <td>18158.0</td>\n",
       "      <td>6750.0</td>\n",
       "      <td>NaN</td>\n",
       "      <td>1064337.0</td>\n",
       "      <td>15189.0</td>\n",
       "      <td>NaN</td>\n",
       "      <td>156078.0</td>\n",
       "    </tr>\n",
       "    <tr>\n",
       "      <th>1</th>\n",
       "      <td>China</td>\n",
       "      <td>2013</td>\n",
       "      <td>5016127.0</td>\n",
       "      <td>5431637.4</td>\n",
       "      <td>18669.0</td>\n",
       "      <td>7438.0</td>\n",
       "      <td>NaN</td>\n",
       "      <td>920291.0</td>\n",
       "      <td>5564.0</td>\n",
       "      <td>NaN</td>\n",
       "      <td>141197.0</td>\n",
       "    </tr>\n",
       "    <tr>\n",
       "      <th>2</th>\n",
       "      <td>China</td>\n",
       "      <td>2012</td>\n",
       "      <td>4609729.0</td>\n",
       "      <td>4987553.0</td>\n",
       "      <td>17653.0</td>\n",
       "      <td>6874.0</td>\n",
       "      <td>NaN</td>\n",
       "      <td>872107.0</td>\n",
       "      <td>NaN</td>\n",
       "      <td>NaN</td>\n",
       "      <td>95978.0</td>\n",
       "    </tr>\n",
       "    <tr>\n",
       "      <th>3</th>\n",
       "      <td>China</td>\n",
       "      <td>2011</td>\n",
       "      <td>4319132.0</td>\n",
       "      <td>4713019.0</td>\n",
       "      <td>19307.0</td>\n",
       "      <td>6562.0</td>\n",
       "      <td>NaN</td>\n",
       "      <td>698945.0</td>\n",
       "      <td>NaN</td>\n",
       "      <td>NaN</td>\n",
       "      <td>70331.0</td>\n",
       "    </tr>\n",
       "    <tr>\n",
       "      <th>4</th>\n",
       "      <td>United States</td>\n",
       "      <td>2010</td>\n",
       "      <td>4153664.0</td>\n",
       "      <td>4378422.0</td>\n",
       "      <td>19107.0</td>\n",
       "      <td>45083.0</td>\n",
       "      <td>17577.0</td>\n",
       "      <td>286333.0</td>\n",
       "      <td>3934.0</td>\n",
       "      <td>NaN</td>\n",
       "      <td>95148.0</td>\n",
       "    </tr>\n",
       "  </tbody>\n",
       "</table>\n",
       "</div>"
      ],
      "text/plain": [
       "  country_or_area  year     demand  production  exports  imports  geothermal  \\\n",
       "0           China  2014  5219096.0   5649583.4  18158.0   6750.0         NaN   \n",
       "1           China  2013  5016127.0   5431637.4  18669.0   7438.0         NaN   \n",
       "2           China  2012  4609729.0   4987553.0  17653.0   6874.0         NaN   \n",
       "3           China  2011  4319132.0   4713019.0  19307.0   6562.0         NaN   \n",
       "4   United States  2010  4153664.0   4378422.0  19107.0  45083.0     17577.0   \n",
       "\n",
       "       hydro    solar  tide      wind  \n",
       "0  1064337.0  15189.0   NaN  156078.0  \n",
       "1   920291.0   5564.0   NaN  141197.0  \n",
       "2   872107.0      NaN   NaN   95978.0  \n",
       "3   698945.0      NaN   NaN   70331.0  \n",
       "4   286333.0   3934.0   NaN   95148.0  "
      ]
     },
     "execution_count": 26,
     "metadata": {},
     "output_type": "execute_result"
    }
   ],
   "source": [
    "df_countries = df_countries.reset_index()\n",
    "df_countries.head()"
   ]
  },
  {
   "cell_type": "markdown",
   "metadata": {},
   "source": [
    "Este nuevo dataframe resulta ser más amigable para su uso al contener información específica para los países por año sobre la variable \"quantity\""
   ]
  },
  {
   "cell_type": "code",
   "execution_count": 29,
   "metadata": {},
   "outputs": [
    {
     "data": {
      "text/plain": [
       "2012    229\n",
       "2013    229\n",
       "2014    229\n",
       "2011    226\n",
       "2010    226\n",
       "2009    226\n",
       "2007    226\n",
       "2008    226\n",
       "2006    225\n",
       "2005    225\n",
       "2002    224\n",
       "2004    224\n",
       "2003    224\n",
       "2001    221\n",
       "1994    220\n",
       "1996    220\n",
       "1995    220\n",
       "1999    220\n",
       "1997    220\n",
       "2000    220\n",
       "1998    220\n",
       "1992    219\n",
       "1993    219\n",
       "1991    197\n",
       "1990    197\n",
       "Name: year, dtype: int64"
      ]
     },
     "execution_count": 29,
     "metadata": {},
     "output_type": "execute_result"
    }
   ],
   "source": [
    "df_countries[\"year\"].value_counts() # Alguno países dejaron de reportar información, posiblemente dejaron de existir"
   ]
  },
  {
   "cell_type": "markdown",
   "metadata": {},
   "source": [
    "## Exploración del crecimiento de la producción de energías y energías renovables\n",
    "\n",
    "Hasta el momento se ha filtrado la cantidad total de energía renovable producida por cada paísy cada una de sus fuentes. Ahora se va a buscar agregar información adicional en búsqueda de patrones interesantes para nuestro análisis\n",
    "\n",
    "### Ejercicio 2\n",
    "\n",
    "Reemplazar los valores perdidos en el DataFrame filtrado con valores de 0"
   ]
  },
  {
   "cell_type": "code",
   "execution_count": 31,
   "metadata": {},
   "outputs": [],
   "source": [
    "df_countries = df_countries.fillna(0)"
   ]
  }
 ],
 "metadata": {
  "kernelspec": {
   "display_name": "Python 3",
   "language": "python",
   "name": "python3"
  },
  "language_info": {
   "codemirror_mode": {
    "name": "ipython",
    "version": 3
   },
   "file_extension": ".py",
   "mimetype": "text/x-python",
   "name": "python",
   "nbconvert_exporter": "python",
   "pygments_lexer": "ipython3",
   "version": "3.8.5"
  }
 },
 "nbformat": 4,
 "nbformat_minor": 4
}
