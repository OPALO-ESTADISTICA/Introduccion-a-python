{
 "cells": [
  {
   "cell_type": "markdown",
   "metadata": {},
   "source": [
    "# Numpy"
   ]
  },
  {
   "cell_type": "markdown",
   "metadata": {},
   "source": [
    "Numpy es un paquete de computación científica. Permite el trabajo con arreglos vectoriales, matriciales y funciones para cálculos matemáticos, también permite operaciones de algebra lineal, transformadas de Fourier y generación de valores aleatorios. Para mayor información ir a: __[Numpy](https://docs.scipy.org/doc/numpy/user/quickstart.html)__"
   ]
  },
  {
   "cell_type": "markdown",
   "metadata": {},
   "source": [
    "En este notebook se abordarán temas como:\n",
    "\n",
    "### [1. Crear arreglos (arrays) utilizando NumPy](#Cap1)\n",
    "\n",
    "### [2. Información de los arreglos](#Cap2)\n",
    "\n",
    "### [3. Acceder y modificar elementos en un arreglo](#Cap3)\n",
    "\n",
    "### [4. Acceder a sub arreglos](#Cap4)\n",
    "\n",
    "### [5. Partición de datos](#Cap5)\n",
    "\n",
    "### [6. Operaciones con arreglos](#Cap6)\n",
    "\n",
    "### [7. Operaciones booleanas](#Cap7)\n",
    "\n",
    "### [8. Ordenar arreglos](#Cap8)\n",
    "\n",
    "### [9. Centrar un arreglo](#Cap9)"
   ]
  },
  {
   "cell_type": "code",
   "execution_count": null,
   "metadata": {},
   "outputs": [],
   "source": [
    "import numpy as np"
   ]
  },
  {
   "cell_type": "markdown",
   "metadata": {},
   "source": [
    "###  1. Crear arreglos (arrays) utilizando NumPy<a class=\"anchor\" id='Cap1'></a>"
   ]
  },
  {
   "cell_type": "code",
   "execution_count": null,
   "metadata": {},
   "outputs": [],
   "source": [
    "np?"
   ]
  },
  {
   "cell_type": "markdown",
   "metadata": {},
   "source": [
    "Los arrays son arreglos de datos en diferentes dimensiones, similares a las listas pero más eficientes, por lo que la manipulación de datos en python es sinónimo de manipulación en Numpy, incluso en el uso de otras herramientas como Pandas\n",
    "\n",
    "Estos arreglos deben tener el mismo tipo de dato para realizar las operaciones entre ellos y para su creación"
   ]
  },
  {
   "cell_type": "code",
   "execution_count": null,
   "metadata": {},
   "outputs": [],
   "source": [
    "# Crear un vector o array de 1 dimensión\n",
    "\n",
    "a = np.array([12,32,34,32,22,15])\n",
    "\n",
    "# Crear una matriz o array de 2 dimensiones\n",
    "\n",
    "b = np.array([[12,13,54],[12,32,1],[21,3,4]])\n",
    "print( a,\"\\n\\n\", b)"
   ]
  },
  {
   "cell_type": "code",
   "execution_count": null,
   "metadata": {},
   "outputs": [],
   "source": [
    "# Qué sucede si se crea un array con diferentes tipos de variables\n",
    "\n",
    "c = np.array([\"1\",2,3,4.5])\n",
    "print(c) # Numpy modifica el tipo de la variable para que todas sean iguales (respecto al tipo)"
   ]
  },
  {
   "cell_type": "markdown",
   "metadata": {},
   "source": [
    "Para crear algunos arreglos específicos NumPy cuenta con funciones pre definidas"
   ]
  },
  {
   "cell_type": "code",
   "execution_count": null,
   "metadata": {},
   "outputs": [],
   "source": [
    "# Crear un array de 0\n",
    "print(np.zeros(10,dtype=\"int\"))"
   ]
  },
  {
   "cell_type": "code",
   "execution_count": null,
   "metadata": {},
   "outputs": [],
   "source": [
    "# Crear una matriz de 1\n",
    "\n",
    "print(np.ones((3,4),dtype=\"float\"))"
   ]
  },
  {
   "cell_type": "code",
   "execution_count": null,
   "metadata": {},
   "outputs": [],
   "source": [
    "# Crear una matriz con un valor cualquiera (i.e 14.8)\n",
    "\n",
    "print(np.full((2,3),14.8,dtype=\"float\"))"
   ]
  },
  {
   "cell_type": "code",
   "execution_count": null,
   "metadata": {},
   "outputs": [],
   "source": [
    "# Crear una matriz identidad\n",
    "\n",
    "print(np.eye(4))"
   ]
  },
  {
   "cell_type": "code",
   "execution_count": null,
   "metadata": {},
   "outputs": [],
   "source": [
    "# Crear un arreglo entre dos valores (0,20) tomando cierto tamaño de \"paso\" (2)\n",
    "\n",
    "print(np.arange(0,20,2))"
   ]
  },
  {
   "cell_type": "code",
   "execution_count": null,
   "metadata": {},
   "outputs": [],
   "source": [
    "# Crear una matriz de valores aleatorios\n",
    "\n",
    "print(np.random.rand(5,5)) # Número de filas y número de columnas"
   ]
  },
  {
   "cell_type": "markdown",
   "metadata": {},
   "source": [
    "### 2. Información de los arreglos<a class=\"anchor\" id='Cap2'></a>"
   ]
  },
  {
   "cell_type": "code",
   "execution_count": null,
   "metadata": {},
   "outputs": [],
   "source": [
    "np.random.seed(0) # Asignar y mantener fija la semilla en el generador de valores aleatorios\n",
    "\n",
    "x = np.random.randint(10,size=(3,4))\n",
    "print(x)"
   ]
  },
  {
   "cell_type": "markdown",
   "metadata": {},
   "source": [
    "Para conocer las características de los arreglos como dimensiones, forma y tamaño se utilizan los siguientes métodos:"
   ]
  },
  {
   "cell_type": "code",
   "execution_count": null,
   "metadata": {},
   "outputs": [],
   "source": [
    "# Dimensiones (ndim)\n",
    "\n",
    "print(x.ndim)"
   ]
  },
  {
   "cell_type": "code",
   "execution_count": null,
   "metadata": {},
   "outputs": [],
   "source": [
    "# Forma\n",
    "\n",
    "print(x.shape)"
   ]
  },
  {
   "cell_type": "code",
   "execution_count": null,
   "metadata": {},
   "outputs": [],
   "source": [
    "# Tamaño\n",
    "\n",
    "print(x.size)"
   ]
  },
  {
   "cell_type": "markdown",
   "metadata": {},
   "source": [
    "### 3. Acceder y modificar elementos en los arreglos<a class=\"anchor\" id='Cap3'></a>"
   ]
  },
  {
   "cell_type": "markdown",
   "metadata": {},
   "source": [
    "El acceso y modificación de un elemento en un array se hace de manera similar a las listas, es decir, usando [fila,columna]"
   ]
  },
  {
   "cell_type": "code",
   "execution_count": null,
   "metadata": {},
   "outputs": [],
   "source": [
    "# Acceder al primer elemento\n",
    "\n",
    "print(\"Primer elemento: \",x[0])"
   ]
  },
  {
   "cell_type": "code",
   "execution_count": null,
   "metadata": {},
   "outputs": [],
   "source": [
    "# Acceder al último elemento\n",
    "\n",
    "print(\"Último elemeno: \",x[-1])"
   ]
  },
  {
   "cell_type": "code",
   "execution_count": null,
   "metadata": {},
   "outputs": [],
   "source": [
    "# Acceder a cualquier elemento (i.e tercer elemento de la primera fila)\n",
    "\n",
    "print(x[0,3])"
   ]
  },
  {
   "cell_type": "code",
   "execution_count": null,
   "metadata": {},
   "outputs": [],
   "source": [
    "# Modificar un elemento \n",
    "\n",
    "x[1]=3.16 # Modificar todos los elementos de la fila 1\n",
    "print(x)"
   ]
  },
  {
   "cell_type": "markdown",
   "metadata": {},
   "source": [
    "### 4. Acceder a sub-arreglos<a class=\"anchor\" id='Cap4'></a>"
   ]
  },
  {
   "cell_type": "markdown",
   "metadata": {},
   "source": [
    "Al igual que en las listas, para acceder a porciones o sub-arreglos se usa la notación:\n",
    "\n",
    "x[comienzo:final:paso]"
   ]
  },
  {
   "cell_type": "code",
   "execution_count": null,
   "metadata": {},
   "outputs": [],
   "source": [
    "# Arreglo unidimensional\n",
    "\n",
    "x1=[12,7,34,5,6,78]\n",
    "print(x1)\n",
    "print(x1[:2])"
   ]
  },
  {
   "cell_type": "code",
   "execution_count": null,
   "metadata": {},
   "outputs": [],
   "source": [
    "# Dos últimos elementos\n",
    "\n",
    "print(x1[-2:])"
   ]
  },
  {
   "cell_type": "code",
   "execution_count": null,
   "metadata": {},
   "outputs": [],
   "source": [
    "# Elementos cada dos observaciones\n",
    "\n",
    "print(x1[::2] )"
   ]
  },
  {
   "cell_type": "code",
   "execution_count": null,
   "metadata": {},
   "outputs": [],
   "source": [
    "# Arreglo multidimensional\n",
    "\n",
    "print(x)"
   ]
  },
  {
   "cell_type": "code",
   "execution_count": null,
   "metadata": {},
   "outputs": [],
   "source": [
    "# Primera columna\n",
    "\n",
    "print(x[:,0])"
   ]
  },
  {
   "cell_type": "code",
   "execution_count": null,
   "metadata": {},
   "outputs": [],
   "source": [
    "# Primeras dos filas y tres columnas\n",
    "\n",
    "print(x[:2,:3])"
   ]
  },
  {
   "cell_type": "code",
   "execution_count": null,
   "metadata": {},
   "outputs": [],
   "source": [
    "# Todas las filas y columnas intercaladas\n",
    "print(x[:,::2])"
   ]
  },
  {
   "cell_type": "markdown",
   "metadata": {},
   "source": [
    "### 5. Particionar los datos<a class=\"anchor\" id='Cap5'></a>"
   ]
  },
  {
   "cell_type": "markdown",
   "metadata": {},
   "source": [
    "En algunos casos es preciso modificar la forma de un array, por lo que la función reshape resulta util para esta tarea"
   ]
  },
  {
   "cell_type": "code",
   "execution_count": null,
   "metadata": {},
   "outputs": [],
   "source": [
    "grid = np.arange(16) # Se crea un array unidimensional con 16 elementos\n",
    "grid = grid.reshape((4,4)) # Se modifica a una matriz de 4x4\n",
    "print(grid)"
   ]
  },
  {
   "cell_type": "code",
   "execution_count": null,
   "metadata": {},
   "outputs": [],
   "source": [
    "# Partición vertical en dos de un arreglo (de forma equitativa)\n",
    "upper, lower = np.vsplit(grid,2) \n",
    "print(upper)\n",
    "print(lower)"
   ]
  },
  {
   "cell_type": "code",
   "execution_count": null,
   "metadata": {},
   "outputs": [],
   "source": [
    "# Partición horizontal en dos de un arreglo (de forma equitativa)\n",
    "\n",
    "left,right = np.hsplit(grid,[2])\n",
    "print(\"\\n\",left)\n",
    "print(right)"
   ]
  },
  {
   "cell_type": "markdown",
   "metadata": {},
   "source": [
    "### 6. Operaciones con los arreglos<a class=\"anchor\" id='Cap6'></a>"
   ]
  },
  {
   "cell_type": "markdown",
   "metadata": {},
   "source": [
    "* Funciones aritméticas"
   ]
  },
  {
   "cell_type": "markdown",
   "metadata": {},
   "source": [
    "En la siguiente tabla se enlistan los operadores aritméticos implementados en NumPy:\n",
    "\n",
    "| Operador\t    | Equivalente ufunc | Descripción                           |\n",
    "|---------------|-------------------|---------------------------------------|\n",
    "|``+``          |``np.add``         |Suma (e.g., ``1 + 1 = 2``)             |\n",
    "|``-``          |``np.subtract``    |Resta (e.g., ``3 - 2 = 1``)            |\n",
    "|``-``          |``np.negative``    |Negativo unitario (e.g., ``-2``)       |\n",
    "|``*``          |``np.multiply``    |Multiplicación (e.g., ``2 * 3 = 6``)   |\n",
    "|``/``          |``np.divide``      |División (e.g., ``3 / 2 = 1.5``)       |\n",
    "|``//``         |``np.floor_divide``|División inferior (e.g., ``3 // 2 = 1``)|\n",
    "|``**``         |``np.power``       |Potenciación (e.g., ``2 ** 3 = 8``)    |\n",
    "|``%``          |``np.mod``         |Módulo/residuo (e.g., ``9 % 4 = 1``)   |\n"
   ]
  },
  {
   "cell_type": "code",
   "execution_count": null,
   "metadata": {},
   "outputs": [],
   "source": [
    "%timeit sum(x1)"
   ]
  },
  {
   "cell_type": "code",
   "execution_count": null,
   "metadata": {},
   "outputs": [],
   "source": [
    "%timeit np.array(x).sum()"
   ]
  },
  {
   "cell_type": "code",
   "execution_count": null,
   "metadata": {},
   "outputs": [],
   "source": [
    "print(grid,\"\\n\")\n",
    "print(np.floor_divide(grid,3)) # Aproximación al entero inferior"
   ]
  },
  {
   "cell_type": "markdown",
   "metadata": {},
   "source": [
    "* Funciones trigonométricas"
   ]
  },
  {
   "cell_type": "code",
   "execution_count": null,
   "metadata": {},
   "outputs": [],
   "source": [
    "theta=np.linspace(0,np.pi,3)\n",
    "print(theta)\n",
    "print(\"\\n Seno(theta):\",np.sin(theta))\n",
    "print(\"\\n Coseno(theta):\",np.cos(theta))\n",
    "print(\"\\n Tangente(theta):\",np.tan(theta))"
   ]
  },
  {
   "cell_type": "markdown",
   "metadata": {},
   "source": [
    "* Funciones logarítmicas y exponenciales"
   ]
  },
  {
   "cell_type": "code",
   "execution_count": null,
   "metadata": {},
   "outputs": [],
   "source": [
    "# Funciones exponenciales\n",
    "x = [1, 2, 3]\n",
    "print(\"x:   \", x)\n",
    "print(\"x^3: \", np.power(x,3))\n",
    "print(\"e^x: \", np.exp(x))\n",
    "print(\"2^x: \", np.exp2(x))\n",
    "print(\"3^x: \", np.power(3, x))"
   ]
  },
  {
   "cell_type": "code",
   "execution_count": null,
   "metadata": {},
   "outputs": [],
   "source": [
    "# Funciones logarítmicas\n",
    "x = [1, 2, 4, 10]\n",
    "print(\"x        :\", x)\n",
    "print(\"ln(x)    :\", np.log(x))\n",
    "print(\"log2(x)  :\", np.log2(x))\n",
    "print(\"log10(x) :\", np.log10(x))"
   ]
  },
  {
   "cell_type": "markdown",
   "metadata": {},
   "source": [
    "* Otras funciones"
   ]
  },
  {
   "cell_type": "code",
   "execution_count": null,
   "metadata": {},
   "outputs": [],
   "source": [
    "print(x,\"\\n\")\n",
    "print(np.multiply.reduce(x))     # Reducir el arreglo a una sola operación. Regresa el producto de todos los elementos\n",
    "print(np.multiply.accumulate(x)) # Multiplica todos los elementos y almacena los productos intermedios"
   ]
  },
  {
   "cell_type": "markdown",
   "metadata": {},
   "source": [
    "Para la multiplicación de matrices se usa la función np.dot(), en el caso de querer multiplicar elemento por elemento se acude a \" * \""
   ]
  },
  {
   "cell_type": "code",
   "execution_count": null,
   "metadata": {},
   "outputs": [],
   "source": [
    "# Para el producto de las matrices se debe cumplir que las dimensiones sean: (mxn)*(nxp)=mxp\n",
    "\n",
    "a=np.random.rand(4,5) # Matriz de 4x5\n",
    "b=np.random.randint(0,5,size=[5,3]) # Matríz de 5x3\n",
    "n=a.dot(b)\n",
    "print(n)"
   ]
  },
  {
   "cell_type": "code",
   "execution_count": null,
   "metadata": {},
   "outputs": [],
   "source": [
    "# La función transpose regresa la transupuesta de una matriz\n",
    "\n",
    "trans=a.transpose()\n",
    "print(\"Transpuesta de la matriz: \\n\\n\",trans)"
   ]
  },
  {
   "cell_type": "code",
   "execution_count": null,
   "metadata": {},
   "outputs": [],
   "source": [
    "# Inversa de una matriz. Es preciso acudir al modulo de álgebra lineal (linalg)\n",
    "\n",
    "matriz=np.random.randint(4,100,[4,4])\n",
    "inv=np.linalg.inv(matriz)\n",
    "print(matriz,\"\\n\")\n",
    "print(inv,\"\\n\") # Matriz inversa\n",
    "print(matriz.dot(inv)) # Matriz identidad"
   ]
  },
  {
   "cell_type": "code",
   "execution_count": null,
   "metadata": {},
   "outputs": [],
   "source": [
    "# Determinante de una matriz\n",
    "\n",
    "np.linalg.det(matriz)"
   ]
  },
  {
   "cell_type": "code",
   "execution_count": null,
   "metadata": {},
   "outputs": [],
   "source": [
    "# La función flatten transforma un arreglo n-dimensional en uno uni dimensional\n",
    "\n",
    "uni=a.flatten()\n",
    "print(uni,\"\\n\",uni.shape)"
   ]
  },
  {
   "cell_type": "markdown",
   "metadata": {},
   "source": [
    "### 7. Operaciones booleanas<a class=\"anchor\" id='Cap7'></a>"
   ]
  },
  {
   "cell_type": "code",
   "execution_count": null,
   "metadata": {},
   "outputs": [],
   "source": [
    "x=np.random.randint(low=0,high=10,size=(4,2))\n",
    "x"
   ]
  },
  {
   "cell_type": "code",
   "execution_count": null,
   "metadata": {},
   "outputs": [],
   "source": [
    "# Para comparar elementos de un arreglo se hace uso de los operadores booleanos\n",
    "\n",
    "print(x>4) # Como salida se obtiene el arreglo del mismo tamaño, pero con valores de true cuando se cumple la condición"
   ]
  },
  {
   "cell_type": "code",
   "execution_count": null,
   "metadata": {},
   "outputs": [],
   "source": [
    "# Los valores de True son iguales a 1, para contar cuantos valores cumplen con una condición se hace uso de count_nonzero()\n",
    "\n",
    "print(np.count_nonzero(x>5),\"valores son mayores a 5\")\n",
    "print(np.count_nonzero(~(x>=5)),\"valores no son mayores a 5\")\n",
    "print(np.count_nonzero((x>5)&(x<8)),\"valores son mayores a 5 y menores a 8\")\n",
    "print(np.count_nonzero((x>5)|(x<8)),\"valores son mayores a 5 o menores a 8\")"
   ]
  },
  {
   "cell_type": "code",
   "execution_count": null,
   "metadata": {},
   "outputs": [],
   "source": [
    "# Para seleccionar un subconjuto de datos que cumpla una condición se crea una \"máscara\"\n",
    "\n",
    "mask=x>6\n",
    "print(\"Los valores mayores 6 son:\",x[mask])"
   ]
  },
  {
   "cell_type": "markdown",
   "metadata": {},
   "source": [
    "Los operadores and y or no son equivalentes a & y |, dado que los primeros toman una única entidad para realizar las comparaciones, mientras que los segundos lo hacen elemento por elemento"
   ]
  },
  {
   "cell_type": "markdown",
   "metadata": {},
   "source": [
    "### 8. Ordenar los arreglos<a class=\"anchor\" id='Cap8'></a>"
   ]
  },
  {
   "cell_type": "markdown",
   "metadata": {},
   "source": [
    "Para ordenar los arreglos en NumPy se pueden usar bucles, sin embargo resulta más eficiente utilizar las funciones con las que se cuenta como sort() o argsort"
   ]
  },
  {
   "cell_type": "code",
   "execution_count": null,
   "metadata": {},
   "outputs": [],
   "source": [
    "x = np.random.randint(0,20,10)\n",
    "x"
   ]
  },
  {
   "cell_type": "code",
   "execution_count": null,
   "metadata": {},
   "outputs": [],
   "source": [
    "# Ordenar los valores de menor a mayor\n",
    "print(np.sort(x))\n",
    "\n",
    "# Ordenar de menor a mayor, pero regresando los índicies de los valores ordenados\n",
    "print(np.argsort(x))"
   ]
  },
  {
   "cell_type": "code",
   "execution_count": null,
   "metadata": {},
   "outputs": [],
   "source": [
    "z=np.random.randint(0,10,(4,6))\n",
    "z"
   ]
  },
  {
   "cell_type": "code",
   "execution_count": null,
   "metadata": {},
   "outputs": [],
   "source": [
    "# Ordenar las columnas\n",
    "print(np.sort(z,axis=0))\n",
    "\n",
    "# Ordenar las filas\n",
    "print(\"\\n\",np.sort(z,axis=1))"
   ]
  },
  {
   "cell_type": "markdown",
   "metadata": {},
   "source": [
    "### 9. Centrar un arreglo<a class=\"anchor\" id='Cap9'></a>\n",
    "\n",
    "En algunas situaciones es de bastante utilidad centrar los datos para garantizar una media igual a 0 y una varianza igual a uno. Numpy ofrece la posibilidad de hacerlo de manera eficiente con el manejo de arrays"
   ]
  },
  {
   "cell_type": "code",
   "execution_count": 15,
   "metadata": {},
   "outputs": [
    {
     "data": {
      "text/plain": [
       "array([[0.20678259, 0.27332964, 0.11153613],\n",
       "       [0.56686676, 0.64154383, 0.33465253],\n",
       "       [0.41476713, 0.59449233, 0.34954072],\n",
       "       [0.54286397, 0.53022824, 0.98529447],\n",
       "       [0.43279027, 0.54135912, 0.19967596],\n",
       "       [0.43443949, 0.79843022, 0.20875892],\n",
       "       [0.59423718, 0.01956257, 0.81897948],\n",
       "       [0.57291025, 0.81315426, 0.26534086],\n",
       "       [0.22495809, 0.71762752, 0.10569849],\n",
       "       [0.63906551, 0.31020036, 0.08536184]])"
      ]
     },
     "execution_count": 15,
     "metadata": {},
     "output_type": "execute_result"
    }
   ],
   "source": [
    "X = np.random.random((10, 3))\n",
    "X"
   ]
  },
  {
   "cell_type": "code",
   "execution_count": 16,
   "metadata": {},
   "outputs": [
    {
     "data": {
      "text/plain": [
       "array([0.19721612, 0.51435437, 0.45293339, 0.68612889, 0.39127512,\n",
       "       0.48054288, 0.47759308, 0.55046846, 0.34942803, 0.3448759 ])"
      ]
     },
     "execution_count": 16,
     "metadata": {},
     "output_type": "execute_result"
    }
   ],
   "source": [
    "# Cálculo de la media \n",
    "\n",
    "Xmean = X.mean(1)\n",
    "Xmean"
   ]
  },
  {
   "cell_type": "code",
   "execution_count": 18,
   "metadata": {},
   "outputs": [
    {
     "data": {
      "text/html": [
       "<div>\n",
       "<style scoped>\n",
       "    .dataframe tbody tr th:only-of-type {\n",
       "        vertical-align: middle;\n",
       "    }\n",
       "\n",
       "    .dataframe tbody tr th {\n",
       "        vertical-align: top;\n",
       "    }\n",
       "\n",
       "    .dataframe thead th {\n",
       "        text-align: right;\n",
       "    }\n",
       "</style>\n",
       "<table border=\"1\" class=\"dataframe\">\n",
       "  <thead>\n",
       "    <tr style=\"text-align: right;\">\n",
       "      <th></th>\n",
       "      <th>0</th>\n",
       "      <th>1</th>\n",
       "      <th>2</th>\n",
       "    </tr>\n",
       "  </thead>\n",
       "  <tbody>\n",
       "    <tr>\n",
       "      <th>0</th>\n",
       "      <td>0.206783</td>\n",
       "      <td>0.273330</td>\n",
       "      <td>0.111536</td>\n",
       "    </tr>\n",
       "    <tr>\n",
       "      <th>1</th>\n",
       "      <td>0.566867</td>\n",
       "      <td>0.641544</td>\n",
       "      <td>0.334653</td>\n",
       "    </tr>\n",
       "    <tr>\n",
       "      <th>2</th>\n",
       "      <td>0.414767</td>\n",
       "      <td>0.594492</td>\n",
       "      <td>0.349541</td>\n",
       "    </tr>\n",
       "    <tr>\n",
       "      <th>3</th>\n",
       "      <td>0.542864</td>\n",
       "      <td>0.530228</td>\n",
       "      <td>0.985294</td>\n",
       "    </tr>\n",
       "    <tr>\n",
       "      <th>4</th>\n",
       "      <td>0.432790</td>\n",
       "      <td>0.541359</td>\n",
       "      <td>0.199676</td>\n",
       "    </tr>\n",
       "    <tr>\n",
       "      <th>5</th>\n",
       "      <td>0.434439</td>\n",
       "      <td>0.798430</td>\n",
       "      <td>0.208759</td>\n",
       "    </tr>\n",
       "    <tr>\n",
       "      <th>6</th>\n",
       "      <td>0.594237</td>\n",
       "      <td>0.019563</td>\n",
       "      <td>0.818979</td>\n",
       "    </tr>\n",
       "    <tr>\n",
       "      <th>7</th>\n",
       "      <td>0.572910</td>\n",
       "      <td>0.813154</td>\n",
       "      <td>0.265341</td>\n",
       "    </tr>\n",
       "    <tr>\n",
       "      <th>8</th>\n",
       "      <td>0.224958</td>\n",
       "      <td>0.717628</td>\n",
       "      <td>0.105698</td>\n",
       "    </tr>\n",
       "    <tr>\n",
       "      <th>9</th>\n",
       "      <td>0.639066</td>\n",
       "      <td>0.310200</td>\n",
       "      <td>0.085362</td>\n",
       "    </tr>\n",
       "  </tbody>\n",
       "</table>\n",
       "</div>"
      ],
      "text/plain": [
       "          0         1         2\n",
       "0  0.206783  0.273330  0.111536\n",
       "1  0.566867  0.641544  0.334653\n",
       "2  0.414767  0.594492  0.349541\n",
       "3  0.542864  0.530228  0.985294\n",
       "4  0.432790  0.541359  0.199676\n",
       "5  0.434439  0.798430  0.208759\n",
       "6  0.594237  0.019563  0.818979\n",
       "7  0.572910  0.813154  0.265341\n",
       "8  0.224958  0.717628  0.105698\n",
       "9  0.639066  0.310200  0.085362"
      ]
     },
     "execution_count": 18,
     "metadata": {},
     "output_type": "execute_result"
    }
   ],
   "source": [
    "import pandas as pd\n",
    "\n",
    "M = pd.DataFrame(X)\n",
    "M"
   ]
  },
  {
   "cell_type": "code",
   "execution_count": null,
   "metadata": {},
   "outputs": [],
   "source": []
  },
  {
   "cell_type": "markdown",
   "metadata": {},
   "source": [
    "### Ejercicio"
   ]
  },
  {
   "cell_type": "markdown",
   "metadata": {},
   "source": [
    "\n",
    "1) Cree un arreglo unidimensional con los siguientes valores:\n",
    "\n",
    "    46, 5, 19, 47, 22, 45, 11, 11, 33, 7, 26, 48, 7, 47, 32, 36, 18, 23, 21, 2\n",
    "    \n",
    "    - ¿Cuál es su tamaño, dimensión y forma?\n",
    "\n",
    "2) Convierta el arreglo anterior en una matriz de 6x3, ¿Es posible?, de no ser así proponga una forma que sí lo permita.\n",
    "\n",
    "3) ¿Cuál es el valor de la posición (2,3)? Cambie su valor por 8\n",
    "\n",
    "4) De la matriz extraiga la primera y última fila y cree dos variables nuevas. ¿Cuál es el valor de su suma?\n",
    "\n",
    "5) Cree una matriz de enteros de tamaño 20 y ordene sus valores \n",
    "\n",
    "6) Considere el siguiente arreglo de estaturas para un grupo de person:\n",
    "\n",
    "    - [189, 170, 189, 163, 183, 171, 185, 168, 173, 183, 173, 173, 175,\n",
    "       178, 183, 193, 178, 173, 174, 183, 183, 168, 170, 178, 182, 180,\n",
    "       183, 178, 182, 188, 175, 179, 183, 193, 182, 183, 177, 185, 188,\n",
    "       188, 182, 185]\n",
    "       \n",
    "    - Calcule el promedio, desviación estándar, máximo y mínimo"
   ]
  },
  {
   "cell_type": "code",
   "execution_count": 1,
   "metadata": {},
   "outputs": [],
   "source": [
    "import numpy as np"
   ]
  },
  {
   "cell_type": "code",
   "execution_count": 4,
   "metadata": {},
   "outputs": [
    {
     "data": {
      "text/plain": [
       "array([[0, 1, 2],\n",
       "       [1, 2, 3],\n",
       "       [2, 3, 4]])"
      ]
     },
     "execution_count": 4,
     "metadata": {},
     "output_type": "execute_result"
    }
   ],
   "source": [
    "a = np.arange(3).reshape((3, 1))\n",
    "b = np.arange(3)\n",
    "a+b"
   ]
  },
  {
   "cell_type": "code",
   "execution_count": 9,
   "metadata": {},
   "outputs": [
    {
     "data": {
      "text/plain": [
       "array([[1., 1.],\n",
       "       [1., 1.],\n",
       "       [1., 1.]])"
      ]
     },
     "execution_count": 9,
     "metadata": {},
     "output_type": "execute_result"
    }
   ],
   "source": [
    "M = np.ones((3, 2))\n",
    "a = np.arange(3)\n",
    "M"
   ]
  }
 ],
 "metadata": {
  "kernelspec": {
   "display_name": "Python 3",
   "language": "python",
   "name": "python3"
  },
  "language_info": {
   "codemirror_mode": {
    "name": "ipython",
    "version": 3
   },
   "file_extension": ".py",
   "mimetype": "text/x-python",
   "name": "python",
   "nbconvert_exporter": "python",
   "pygments_lexer": "ipython3",
   "version": "3.7.6"
  }
 },
 "nbformat": 4,
 "nbformat_minor": 2
}
